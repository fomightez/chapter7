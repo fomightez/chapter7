{
 "cells": [
  {
   "cell_type": "markdown",
   "id": "frank-mention",
   "metadata": {},
   "source": [
    "# CASE STUDY 7B: Sentiment Analysis of Text Documents "
   ]
  },
  {
   "cell_type": "markdown",
   "id": "welcome-bulgarian",
   "metadata": {},
   "source": [
    "<img src=\"https://ithaka-labs.s3.amazonaws.com/static-files/images/tdm/tdmdocs/CC_BY.png\" align=left alt=\"CC BY license logo\" /><br /><br />\n",
    "Created by [Manika Lamba](http://manika-lamba.github.io) under [Creative Commons CC BY License](https://creativecommons.org/licenses/by/4.0/)<br />\n",
    "**For questions/comments, email lambamanika07@gmail.com**<br />\n",
    "____"
   ]
  },
  {
   "cell_type": "code",
   "execution_count": 34,
   "id": "accurate-factory",
   "metadata": {},
   "outputs": [],
   "source": [
    "#Load libraries\n",
    "library(syuzhet)\n",
    "library(tm)\n",
    "library(twitteR)"
   ]
  },
  {
   "cell_type": "code",
   "execution_count": 36,
   "id": "informational-extra",
   "metadata": {},
   "outputs": [],
   "source": [
    "#Load dataset\n",
    "data<- read.csv(\"https://raw.githubusercontent.com/textmining-utl/chapter7/master/data.csv\")"
   ]
  },
  {
   "cell_type": "code",
   "execution_count": 38,
   "id": "paperback-rental",
   "metadata": {},
   "outputs": [],
   "source": [
    "#syuzhet package works only on vectors. So, the data was converted to a vector\n",
    "vector <- as.vector(t(data))"
   ]
  },
  {
   "cell_type": "code",
   "execution_count": 40,
   "id": "listed-lingerie",
   "metadata": {},
   "outputs": [],
   "source": [
    "#Sentiment analysis\n",
    "emotion.data <- get_nrc_sentiment(vector)\n",
    "emotion.data2 <- cbind(data, emotion.data)\n",
    "sentiment.score <- get_sentiment(vector)\n",
    "sentiment.data = cbind(sentiment.score, emotion.data2)"
   ]
  },
  {
   "cell_type": "code",
   "execution_count": 42,
   "id": "molecular-hughes",
   "metadata": {},
   "outputs": [],
   "source": [
    "#Getting positive, negative, and neutral reviews with associated scores\n",
    "positive.reviews <- sentiment.data[which(sentiment.data$sentiment.score > 0),]\n",
    "write.csv(positive.reviews, \"positive.reviews.csv\")\n",
    "\n",
    "negative.reviews <- sentiment.data[which(sentiment.data$sentiment.score < 0),]\n",
    "write.csv(negative.reviews, \"negative.reviews.csv\")\n",
    "\n",
    "neutral.reviews <- sentiment.data[which(sentiment.data$sentiment.score == 0),]\n",
    "write.csv(neutral.reviews, \"neutral.reviews.csv\")"
   ]
  },
  {
   "cell_type": "code",
   "execution_count": 44,
   "id": "coupled-wayne",
   "metadata": {},
   "outputs": [
    {
     "data": {
      "image/png": "[encoded data removed]",
      "text/plain": [
       "Plot with title \"Amazon Book Reviews using Percentage-Based Means\""
      ]
     },
     "metadata": {},
     "output_type": "display_data"
    }
   ],
   "source": [
    "#Plot1: Percentage-Based Means\n",
    "percent_vals <- get_percentage_values(sentiment.score, bins=20)\n",
    "\n",
    "plot(percent_vals,\n",
    "     type=\"l\",\n",
    "     main=\"Amazon Book Reviews using Percentage-Based Means\",\n",
    "     xlab=\"Narrative Time\",\n",
    "     ylab=\"Emotional Valence\",\n",
    "     col=\"red\")"
   ]
  },
  {
   "cell_type": "code",
   "execution_count": null,
   "id": "radical-aaron",
   "metadata": {},
   "outputs": [],
   "source": [
    "#Plot2: Discrete Cosine Transformation (DCT)\n",
    "dct_values <- get_dct_transform(sentiment.score,\n",
    "                                low_pass_size = 5,\n",
    "                                x_reverse_len = 100,\n",
    "                                scale_vals = F,\n",
    "                                scale_range = T)\n",
    "\n",
    "plot(dct_values,\n",
    "     type =\"l\",\n",
    "     main =\"Amazon Book Reviews using Transformed Values\",\n",
    "     xlab = \"Narrative Time\",\n",
    "     ylab = \"Emotional Valence\",\n",
    "     col = \"red\")"
   ]
  },
  {
   "cell_type": "code",
   "execution_count": null,
   "id": "involved-vietnam",
   "metadata": {},
   "outputs": [],
   "source": [
    "#Plot3: Emotions Graph\n",
    "barplot(sort(colSums(prop.table(emotion.data[, 1:8]))),\n",
    "        horiz=TRUE,\n",
    "        cex.names=0.7,\n",
    "        las=1,\n",
    "        main=\"Emotions in Amazon Book Reviews\",\n",
    "        xlab = \"Percentage\")"
   ]
  }
 ],
 "metadata": {
  "kernelspec": {
   "display_name": "R",
   "language": "R",
   "name": "ir"
  },
  "language_info": {
   "codemirror_mode": "r",
   "file_extension": ".r",
   "mimetype": "text/x-r-source",
   "name": "R",
   "pygments_lexer": "r",
   "version": "3.6.1"
  }
 },
 "nbformat": 4,
 "nbformat_minor": 5
}
